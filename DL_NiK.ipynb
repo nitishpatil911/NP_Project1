{
 "cells": [
  {
   "cell_type": "code",
   "execution_count": null,
   "metadata": {},
   "outputs": [],
   "source": [
    "# study of mlp learning curves given different number of nodes for multi-class classification\n",
    "from sklearn.datasets.samples_generator import make_blobs\n",
    "from keras.layers import Dense\n",
    "from keras.models import Sequential\n",
    "from keras.optimizers import SGD\n",
    "from keras.utils.np_utils import to_categorical\n",
    "from matplotlib import pyplot\n",
    "\n",
    "# prepare multi-class classification dataset\n",
    "def create_dataset():\n",
    "\t# generate 2d classification dataset\n",
    "\tX, y = make_blobs(n_samples=1000, centers=20, n_features=100, cluster_std=2, random_state=2)\n",
    "\t# one hot encode output variable\n",
    "\ty = to_categorical(y)\n",
    "\t# split into train and test\n",
    "\tn_train = 500\n",
    "\ttrainX, testX = X[:n_train, :], X[n_train:, :]\n",
    "\ttrainy, testy = y[:n_train], y[n_train:]\n",
    "\treturn trainX, trainy, testX, testy\n",
    "\n",
    "# fit model with given number of nodes, returns test set accuracy\n",
    "def evaluate_model(n_nodes, trainX, trainy, testX, testy):\n",
    "\t# configure the model based on the data\n",
    "\tn_input, n_classes = trainX.shape[1], testy.shape[1]\n",
    "\t# define model\n",
    "\tmodel = Sequential()\n",
    "\tmodel.add(Dense(n_nodes, input_dim=n_input, activation='relu', kernel_initializer='he_uniform'))\n",
    "\tmodel.add(Dense(n_classes, activation='softmax'))\n",
    "\t# compile model\n",
    "\topt = SGD(lr=0.01, momentum=0.9)\n",
    "\tmodel.compile(loss='categorical_crossentropy', optimizer=opt, metrics=['categorical_accuracy'])\n",
    "\t# fit model on train set\n",
    "\thistory = model.fit(trainX, trainy, epochs=100, verbose=1)\n",
    "\t# evaluate model on test set\n",
    "\t_, test_acc = model.evaluate(testX, testy, verbose=0) # verbose = show or do not show the calculation\n",
    "\treturn history, test_acc\n",
    "\n",
    "# prepare dataset\n",
    "trainX, trainy, testX, testy = create_dataset()\n",
    "# evaluate model and plot learning curve with given number of nodes\n",
    "num_nodes = [1, 2, 3, 4, 5, 6, 7]\n",
    "for n_nodes in num_nodes:\n",
    "\t# evaluate model with a given number of nodes\n",
    "\thistory, result = evaluate_model(n_nodes, trainX, trainy, testX, testy)\n",
    "\t# summarize final test set accuracy\n",
    "\tprint('nodes=%d: %.3f' % (n_nodes, result))\n",
    "\t# plot learning curve\n",
    "\tpyplot.plot(history.history['loss'], label=str(n_nodes)) # loss & acc\n",
    "# show the plot\n",
    "pyplot.legend()\n",
    "#pyplot.show()"
   ]
  }
 ],
 "metadata": {
  "kernelspec": {
   "display_name": "Python 3",
   "language": "python",
   "name": "python3"
  },
  "language_info": {
   "codemirror_mode": {
    "name": "ipython",
    "version": 3
   },
   "file_extension": ".py",
   "mimetype": "text/x-python",
   "name": "python",
   "nbconvert_exporter": "python",
   "pygments_lexer": "ipython3",
   "version": "3.8.5"
  }
 },
 "nbformat": 4,
 "nbformat_minor": 4
}
